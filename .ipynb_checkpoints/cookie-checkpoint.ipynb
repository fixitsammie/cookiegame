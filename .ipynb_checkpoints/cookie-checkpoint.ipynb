{
 "cells": [
  {
   "cell_type": "code",
   "execution_count": 22,
   "metadata": {
    "collapsed": true
   },
   "outputs": [],
   "source": [
    "\"\"\"program that solves the cookie game and gives a list of words\"\"\"\n",
    "import itertools\n",
    "import json\n",
    "import os, sys\n",
    "\n",
    "def load_words():\n",
    "    try:\n",
    "        filename =\"words_dictionary.json\"\n",
    "        with open(filename,\"r\") as english_dictionary:\n",
    "            valid_words = json.load(english_dictionary)\n",
    "            return valid_words\n",
    "    except Exception as e:\n",
    "        return str(e)"
   ]
  },
  {
   "cell_type": "code",
   "execution_count": 23,
   "metadata": {
    "collapsed": true
   },
   "outputs": [],
   "source": [
    "letters=\"shfle\"\n",
    "n_letter_word=3\n",
    "n=n_letter_word\n",
    "english_words = load_words()"
   ]
  },
  {
   "cell_type": "code",
   "execution_count": 24,
   "metadata": {
    "collapsed": true
   },
   "outputs": [],
   "source": [
    "combo=itertools.permutations(letters,n)\n",
    "jombo=[\"\".join(i) for i in combo]\n"
   ]
  },
  {
   "cell_type": "code",
   "execution_count": 25,
   "metadata": {},
   "outputs": [
    {
     "name": "stdout",
     "output_type": "stream",
     "text": [
      "she\n",
      "sel\n",
      "hes\n",
      "hel\n",
      "feh\n",
      "les\n",
      "efs\n",
      "efl\n",
      "els\n",
      "elf\n"
     ]
    }
   ],
   "source": [
    "\n",
    "for i in jombo:\n",
    "    try:\n",
    "        english_words[i.lower()]\n",
    "        nu=1\n",
    "    except:\n",
    "        nu=0\n",
    "    if nu==1:\n",
    "        print(i.lower())\n",
    "    nu=0\n"
   ]
  },
  {
   "cell_type": "code",
   "execution_count": null,
   "metadata": {
    "collapsed": true
   },
   "outputs": [],
   "source": []
  },
  {
   "cell_type": "code",
   "execution_count": null,
   "metadata": {
    "collapsed": true
   },
   "outputs": [],
   "source": []
  }
 ],
 "metadata": {
  "kernelspec": {
   "display_name": "Python 3",
   "language": "python",
   "name": "python3"
  },
  "language_info": {
   "codemirror_mode": {
    "name": "ipython",
    "version": 3
   },
   "file_extension": ".py",
   "mimetype": "text/x-python",
   "name": "python",
   "nbconvert_exporter": "python",
   "pygments_lexer": "ipython3",
   "version": "3.6.1"
  }
 },
 "nbformat": 4,
 "nbformat_minor": 2
}
